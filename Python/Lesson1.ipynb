{
 "cells": [
  {
   "cell_type": "code",
   "execution_count": null,
   "metadata": {},
   "outputs": [],
   "source": [
    "fork - операция клонирования любого репозитория в свой личный акк gitgub,позволяющая в дальнейшем отправить пул реквест.\n",
    "пул реквест - "
   ]
  },
  {
   "cell_type": "code",
   "execution_count": null,
   "metadata": {},
   "outputs": [],
   "source": [
    "операция переноса изменений из личного репозитория в форкнутый репозиторий,пул реквест возможен только при наличии изменений.\n",
    "камит - процедура сохранения своих изменений в github "
   ]
  },
  {
   "cell_type": "code",
   "execution_count": null,
   "metadata": {},
   "outputs": [],
   "source": [
    "print(\"hello world\")"
   ]
  }
 ],
 "metadata": {
  "language_info": {
   "name": "python"
  },
  "orig_nbformat": 4
 },
 "nbformat": 4,
 "nbformat_minor": 2
}
