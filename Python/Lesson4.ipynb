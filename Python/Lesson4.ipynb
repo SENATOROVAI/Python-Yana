{
 "cells": [
  {
   "cell_type": "markdown",
   "metadata": {},
   "source": [
    "1)создание виртуального окружения command: \n",
    "python3 -m venv venv\n",
    "2)выбрать select Kernal (venv)-интерпретатор кода\n"
   ]
  },
  {
   "cell_type": "code",
   "execution_count": 1,
   "metadata": {},
   "outputs": [
    {
     "data": {
      "text/plain": [
       "2"
      ]
     },
     "execution_count": 1,
     "metadata": {},
     "output_type": "execute_result"
    }
   ],
   "source": [
    "1+1"
   ]
  },
  {
   "cell_type": "code",
   "execution_count": 11,
   "metadata": {},
   "outputs": [
    {
     "name": "stdout",
     "output_type": "stream",
     "text": [
      "appnope==0.1.3\n",
      "asttokens==2.2.1\n",
      "backcall==0.2.0\n",
      "comm==0.1.4\n",
      "debugpy==1.6.7.post1\n",
      "decorator==5.1.1\n",
      "executing==1.2.0\n",
      "importlib-metadata==6.8.0\n",
      "ipykernel==6.25.1\n",
      "ipython==8.14.0\n",
      "jedi==0.19.0\n",
      "jupyter_client==8.3.0\n",
      "jupyter_core==5.3.1\n",
      "matplotlib-inline==0.1.6\n",
      "nest-asyncio==1.5.7\n",
      "packaging==23.1\n",
      "parso==0.8.3\n",
      "pexpect==4.8.0\n",
      "pickleshare==0.7.5\n",
      "platformdirs==3.10.0\n",
      "prompt-toolkit==3.0.39\n",
      "psutil==5.9.5\n",
      "ptyprocess==0.7.0\n",
      "pure-eval==0.2.2\n",
      "Pygments==2.16.1\n",
      "python-dateutil==2.8.2\n",
      "pyzmq==25.1.1\n",
      "six==1.16.0\n",
      "stack-data==0.6.2\n",
      "tornado==6.3.2\n",
      "traitlets==5.9.0\n",
      "typing_extensions==4.7.1\n",
      "wcwidth==0.2.6\n",
      "zipp==3.16.2\n"
     ]
    }
   ],
   "source": [
    "#pip- package manager \n",
    "#In order to use the terminal, we need to put an exclamation mark ! \n",
    "!pip3 freeze # it s dependencies \n",
    " \n"
   ]
  },
  {
   "cell_type": "code",
   "execution_count": 13,
   "metadata": {},
   "outputs": [],
   "source": [
    "#Export dependencies command:\n",
    "!pip3 freeze > requirements.txt"
   ]
  },
  {
   "cell_type": "code",
   "execution_count": 14,
   "metadata": {},
   "outputs": [
    {
     "name": "stdout",
     "output_type": "stream",
     "text": [
      "Requirement already satisfied: appnope==0.1.3 in /Users/user/Documents/GitHub/Python-Yana/venv/lib/python3.9/site-packages (from -r requirements.txt (line 1)) (0.1.3)\n",
      "Requirement already satisfied: asttokens==2.2.1 in /Users/user/Documents/GitHub/Python-Yana/venv/lib/python3.9/site-packages (from -r requirements.txt (line 2)) (2.2.1)\n",
      "Requirement already satisfied: backcall==0.2.0 in /Users/user/Documents/GitHub/Python-Yana/venv/lib/python3.9/site-packages (from -r requirements.txt (line 3)) (0.2.0)\n",
      "Requirement already satisfied: comm==0.1.4 in /Users/user/Documents/GitHub/Python-Yana/venv/lib/python3.9/site-packages (from -r requirements.txt (line 4)) (0.1.4)\n",
      "Requirement already satisfied: debugpy==1.6.7.post1 in /Users/user/Documents/GitHub/Python-Yana/venv/lib/python3.9/site-packages (from -r requirements.txt (line 5)) (1.6.7.post1)\n",
      "Requirement already satisfied: decorator==5.1.1 in /Users/user/Documents/GitHub/Python-Yana/venv/lib/python3.9/site-packages (from -r requirements.txt (line 6)) (5.1.1)\n",
      "Requirement already satisfied: executing==1.2.0 in /Users/user/Documents/GitHub/Python-Yana/venv/lib/python3.9/site-packages (from -r requirements.txt (line 7)) (1.2.0)\n",
      "Requirement already satisfied: importlib-metadata==6.8.0 in /Users/user/Documents/GitHub/Python-Yana/venv/lib/python3.9/site-packages (from -r requirements.txt (line 8)) (6.8.0)\n",
      "Requirement already satisfied: ipykernel==6.25.1 in /Users/user/Documents/GitHub/Python-Yana/venv/lib/python3.9/site-packages (from -r requirements.txt (line 9)) (6.25.1)\n",
      "Requirement already satisfied: ipython==8.14.0 in /Users/user/Documents/GitHub/Python-Yana/venv/lib/python3.9/site-packages (from -r requirements.txt (line 10)) (8.14.0)\n",
      "Requirement already satisfied: jedi==0.19.0 in /Users/user/Documents/GitHub/Python-Yana/venv/lib/python3.9/site-packages (from -r requirements.txt (line 11)) (0.19.0)\n",
      "Requirement already satisfied: jupyter_client==8.3.0 in /Users/user/Documents/GitHub/Python-Yana/venv/lib/python3.9/site-packages (from -r requirements.txt (line 12)) (8.3.0)\n",
      "Requirement already satisfied: jupyter_core==5.3.1 in /Users/user/Documents/GitHub/Python-Yana/venv/lib/python3.9/site-packages (from -r requirements.txt (line 13)) (5.3.1)\n",
      "Requirement already satisfied: matplotlib-inline==0.1.6 in /Users/user/Documents/GitHub/Python-Yana/venv/lib/python3.9/site-packages (from -r requirements.txt (line 14)) (0.1.6)\n",
      "Requirement already satisfied: nest-asyncio==1.5.7 in /Users/user/Documents/GitHub/Python-Yana/venv/lib/python3.9/site-packages (from -r requirements.txt (line 15)) (1.5.7)\n",
      "Requirement already satisfied: packaging==23.1 in /Users/user/Documents/GitHub/Python-Yana/venv/lib/python3.9/site-packages (from -r requirements.txt (line 16)) (23.1)\n",
      "Requirement already satisfied: parso==0.8.3 in /Users/user/Documents/GitHub/Python-Yana/venv/lib/python3.9/site-packages (from -r requirements.txt (line 17)) (0.8.3)\n",
      "Requirement already satisfied: pexpect==4.8.0 in /Users/user/Documents/GitHub/Python-Yana/venv/lib/python3.9/site-packages (from -r requirements.txt (line 18)) (4.8.0)\n",
      "Requirement already satisfied: pickleshare==0.7.5 in /Users/user/Documents/GitHub/Python-Yana/venv/lib/python3.9/site-packages (from -r requirements.txt (line 19)) (0.7.5)\n",
      "Requirement already satisfied: platformdirs==3.10.0 in /Users/user/Documents/GitHub/Python-Yana/venv/lib/python3.9/site-packages (from -r requirements.txt (line 20)) (3.10.0)\n",
      "Requirement already satisfied: prompt-toolkit==3.0.39 in /Users/user/Documents/GitHub/Python-Yana/venv/lib/python3.9/site-packages (from -r requirements.txt (line 21)) (3.0.39)\n",
      "Requirement already satisfied: psutil==5.9.5 in /Users/user/Documents/GitHub/Python-Yana/venv/lib/python3.9/site-packages (from -r requirements.txt (line 22)) (5.9.5)\n",
      "Requirement already satisfied: ptyprocess==0.7.0 in /Users/user/Documents/GitHub/Python-Yana/venv/lib/python3.9/site-packages (from -r requirements.txt (line 23)) (0.7.0)\n",
      "Requirement already satisfied: pure-eval==0.2.2 in /Users/user/Documents/GitHub/Python-Yana/venv/lib/python3.9/site-packages (from -r requirements.txt (line 24)) (0.2.2)\n",
      "Requirement already satisfied: Pygments==2.16.1 in /Users/user/Documents/GitHub/Python-Yana/venv/lib/python3.9/site-packages (from -r requirements.txt (line 25)) (2.16.1)\n",
      "Requirement already satisfied: python-dateutil==2.8.2 in /Users/user/Documents/GitHub/Python-Yana/venv/lib/python3.9/site-packages (from -r requirements.txt (line 26)) (2.8.2)\n",
      "Requirement already satisfied: pyzmq==25.1.1 in /Users/user/Documents/GitHub/Python-Yana/venv/lib/python3.9/site-packages (from -r requirements.txt (line 27)) (25.1.1)\n",
      "Requirement already satisfied: six==1.16.0 in /Users/user/Documents/GitHub/Python-Yana/venv/lib/python3.9/site-packages (from -r requirements.txt (line 28)) (1.16.0)\n",
      "Requirement already satisfied: stack-data==0.6.2 in /Users/user/Documents/GitHub/Python-Yana/venv/lib/python3.9/site-packages (from -r requirements.txt (line 29)) (0.6.2)\n",
      "Requirement already satisfied: tornado==6.3.2 in /Users/user/Documents/GitHub/Python-Yana/venv/lib/python3.9/site-packages (from -r requirements.txt (line 30)) (6.3.2)\n",
      "Requirement already satisfied: traitlets==5.9.0 in /Users/user/Documents/GitHub/Python-Yana/venv/lib/python3.9/site-packages (from -r requirements.txt (line 31)) (5.9.0)\n",
      "Requirement already satisfied: typing_extensions==4.7.1 in /Users/user/Documents/GitHub/Python-Yana/venv/lib/python3.9/site-packages (from -r requirements.txt (line 32)) (4.7.1)\n",
      "Requirement already satisfied: wcwidth==0.2.6 in /Users/user/Documents/GitHub/Python-Yana/venv/lib/python3.9/site-packages (from -r requirements.txt (line 33)) (0.2.6)\n",
      "Requirement already satisfied: zipp==3.16.2 in /Users/user/Documents/GitHub/Python-Yana/venv/lib/python3.9/site-packages (from -r requirements.txt (line 34)) (3.16.2)\n",
      "\u001b[33mWARNING: You are using pip version 21.2.4; however, version 23.2.1 is available.\n",
      "You should consider upgrading via the '/Users/user/Documents/GitHub/Python-Yana/venv/bin/python3 -m pip install --upgrade pip' command.\u001b[0m\n"
     ]
    }
   ],
   "source": [
    "# install dependencies command:\n",
    "!pip install -r requirements.txt"
   ]
  },
  {
   "cell_type": "code",
   "execution_count": null,
   "metadata": {},
   "outputs": [],
   "source": []
  }
 ],
 "metadata": {
  "kernelspec": {
   "display_name": "venv",
   "language": "python",
   "name": "python3"
  },
  "language_info": {
   "codemirror_mode": {
    "name": "ipython",
    "version": 3
   },
   "file_extension": ".py",
   "mimetype": "text/x-python",
   "name": "python",
   "nbconvert_exporter": "python",
   "pygments_lexer": "ipython3",
   "version": "3.9.6"
  },
  "orig_nbformat": 4
 },
 "nbformat": 4,
 "nbformat_minor": 2
}
